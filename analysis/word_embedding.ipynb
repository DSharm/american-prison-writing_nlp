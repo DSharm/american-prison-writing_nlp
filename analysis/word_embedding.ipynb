{
 "cells": [
  {
   "cell_type": "code",
   "execution_count": 4,
   "metadata": {},
   "outputs": [],
   "source": [
    "import lucem_illud_2020 #pip install git+git://github.com/Computational-Content-Analysis-2020/lucem_illud_2020.git\n",
    "\n",
    "#All these packages need to be installed from pip\n",
    "import requests #for http requests\n",
    "import pandas as pd #gives us DataFrames\n",
    "import matplotlib.pyplot as plt #For graphics\n",
    "import wordcloud #Makes word clouds\n",
    "import numpy as np #For divergences/distances\n",
    "import scipy #For divergences/distances\n",
    "import seaborn as sns #makes our plots look nicer\n",
    "import sklearn.manifold #For a manifold plot\n",
    "import json #For API responses\n",
    "import urllib.parse #For joining urls\n",
    "import bs4 #called `beautifulsoup4`, an html parser\n",
    "import gensim#For word2vec, etc\n",
    "\n",
    "# comp-linguistics\n",
    "import spacy\n",
    "\n",
    "#Displays the graphs\n",
    "import graphviz #You also need to install the command line graphviz\n",
    "\n",
    "#These are from the standard library\n",
    "import os.path\n",
    "import zipfile\n",
    "import subprocess\n",
    "import io\n",
    "import tempfile\n",
    "\n",
    "#These come with Python\n",
    "import re #for regexs\n",
    "import urllib.parse #For joining urls\n",
    "import io #for making http requests look like files\n",
    "import json #For Tumblr API responses\n",
    "import os.path #For checking if files exist\n",
    "import os #For making directories"
   ]
  },
  {
   "cell_type": "code",
   "execution_count": 5,
   "metadata": {},
   "outputs": [],
   "source": [
    "import importlib\n",
    "import helper_functions as fcns\n",
    "import data_ingest as ing"
   ]
  },
  {
   "cell_type": "code",
   "execution_count": 65,
   "metadata": {},
   "outputs": [
    {
     "data": {
      "text/plain": [
       "<module 'data_ingest' from '/Users/daminisharma/Dropbox/Harris MSCAPP/2019-20_Q3_Spring/Content Analysis/american-prison-writing_nlp/analysis/data_ingest.py'>"
      ]
     },
     "execution_count": 65,
     "metadata": {},
     "output_type": "execute_result"
    }
   ],
   "source": [
    "importlib.reload(fcns)\n",
    "importlib.reload(ing)"
   ]
  },
  {
   "cell_type": "code",
   "execution_count": 8,
   "metadata": {},
   "outputs": [
    {
     "data": {
      "text/html": [
       "<div>\n",
       "<style scoped>\n",
       "    .dataframe tbody tr th:only-of-type {\n",
       "        vertical-align: middle;\n",
       "    }\n",
       "\n",
       "    .dataframe tbody tr th {\n",
       "        vertical-align: top;\n",
       "    }\n",
       "\n",
       "    .dataframe thead th {\n",
       "        text-align: right;\n",
       "    }\n",
       "</style>\n",
       "<table border=\"1\" class=\"dataframe\">\n",
       "  <thead>\n",
       "    <tr style=\"text-align: right;\">\n",
       "      <th></th>\n",
       "      <th>url</th>\n",
       "      <th>title</th>\n",
       "      <th>text</th>\n",
       "      <th>date_written</th>\n",
       "      <th>pages</th>\n",
       "      <th>relation_to_prison</th>\n",
       "      <th>race</th>\n",
       "      <th>state</th>\n",
       "      <th>gender</th>\n",
       "      <th>race_agg</th>\n",
       "      <th>gender_agg</th>\n",
       "      <th>tokenized_text</th>\n",
       "      <th>normalized_text</th>\n",
       "      <th>tokenized_sents</th>\n",
       "      <th>normalized_sents</th>\n",
       "    </tr>\n",
       "  </thead>\n",
       "  <tbody>\n",
       "    <tr>\n",
       "      <th>0</th>\n",
       "      <td>/islandora/object/apw%3A12341395?solr_nav%5Bid...</td>\n",
       "      <td>A person cannot become who they need to be by ...</td>\n",
       "      <td>A PERSON CANNOT BECOME WHO THEY NEED TO BE BY...</td>\n",
       "      <td>2014-03-18</td>\n",
       "      <td>2 pages</td>\n",
       "      <td>Death Row Prisoner</td>\n",
       "      <td>White (non-Hispanic)</td>\n",
       "      <td>Indiana</td>\n",
       "      <td>Male</td>\n",
       "      <td>White (non-Hispanic)</td>\n",
       "      <td>Male</td>\n",
       "      <td>[A, PERSON, CANNOT, BECOME, WHO, THEY, NEED, T...</td>\n",
       "      <td>[person, need, remain, wesley, purkey, federal...</td>\n",
       "      <td>[[A, PERSON, CANNOT, BECOME], [WHO, THEY, NEED...</td>\n",
       "      <td>[[person], [need], [remaining], [], [], [wesle...</td>\n",
       "    </tr>\n",
       "    <tr>\n",
       "      <th>1</th>\n",
       "      <td>/islandora/object/apw%3A12341549?solr_nav%5Bid...</td>\n",
       "      <td>It is good justice is blind because she would ...</td>\n",
       "      <td>It is Good Justice is Blind Because She Would ...</td>\n",
       "      <td>2014-03-18</td>\n",
       "      <td>2 pages</td>\n",
       "      <td>Death Row Prisoner</td>\n",
       "      <td>White (non-Hispanic)</td>\n",
       "      <td>Indiana</td>\n",
       "      <td>Male</td>\n",
       "      <td>White (non-Hispanic)</td>\n",
       "      <td>Male</td>\n",
       "      <td>[It, is, Good, Justice, is, Blind, Because, Sh...</td>\n",
       "      <td>[good, justice, blind, like, thing, wesley, pu...</td>\n",
       "      <td>[[It, is, Good, Justice, is, Blind, Because, S...</td>\n",
       "      <td>[[good, justice, blind, like, things], [wesley...</td>\n",
       "    </tr>\n",
       "  </tbody>\n",
       "</table>\n",
       "</div>"
      ],
      "text/plain": [
       "                                                 url  \\\n",
       "0  /islandora/object/apw%3A12341395?solr_nav%5Bid...   \n",
       "1  /islandora/object/apw%3A12341549?solr_nav%5Bid...   \n",
       "\n",
       "                                               title  \\\n",
       "0  A person cannot become who they need to be by ...   \n",
       "1  It is good justice is blind because she would ...   \n",
       "\n",
       "                                                text date_written    pages  \\\n",
       "0   A PERSON CANNOT BECOME WHO THEY NEED TO BE BY...   2014-03-18  2 pages   \n",
       "1  It is Good Justice is Blind Because She Would ...   2014-03-18  2 pages   \n",
       "\n",
       "   relation_to_prison                  race    state gender  \\\n",
       "0  Death Row Prisoner  White (non-Hispanic)  Indiana   Male   \n",
       "1  Death Row Prisoner  White (non-Hispanic)  Indiana   Male   \n",
       "\n",
       "               race_agg gender_agg  \\\n",
       "0  White (non-Hispanic)       Male   \n",
       "1  White (non-Hispanic)       Male   \n",
       "\n",
       "                                      tokenized_text  \\\n",
       "0  [A, PERSON, CANNOT, BECOME, WHO, THEY, NEED, T...   \n",
       "1  [It, is, Good, Justice, is, Blind, Because, Sh...   \n",
       "\n",
       "                                     normalized_text  \\\n",
       "0  [person, need, remain, wesley, purkey, federal...   \n",
       "1  [good, justice, blind, like, thing, wesley, pu...   \n",
       "\n",
       "                                     tokenized_sents  \\\n",
       "0  [[A, PERSON, CANNOT, BECOME], [WHO, THEY, NEED...   \n",
       "1  [[It, is, Good, Justice, is, Blind, Because, S...   \n",
       "\n",
       "                                    normalized_sents  \n",
       "0  [[person], [need], [remaining], [], [], [wesle...  \n",
       "1  [[good, justice, blind, like, things], [wesley...  "
      ]
     },
     "execution_count": 8,
     "metadata": {},
     "output_type": "execute_result"
    }
   ],
   "source": [
    "data_directory = '../data/'\n",
    "filename = 'APW_final.csv'\n",
    "df = ing.load_prep_data(data_directory+filename)\n",
    "df = ing.agg_groups(df, 'race','race_agg',['African American','Latina/o / Hispanic','Multiracial','No information','White (non-Hispanic)'])\n",
    "df = ing.agg_groups(df, 'gender','gender_agg',['Female','Male','No Information'])\n",
    "df = ing.norm_text(df)\n",
    "df = ing.norm_sent(df)\n",
    "df = ing.norm_words(df)\n",
    "df.head(2)"
   ]
  },
  {
   "cell_type": "markdown",
   "metadata": {},
   "source": [
    "# Word2Vec"
   ]
  },
  {
   "cell_type": "code",
   "execution_count": 14,
   "metadata": {},
   "outputs": [],
   "source": [
    "w2v = fcns.word_2_vec(df)"
   ]
  },
  {
   "cell_type": "code",
   "execution_count": 17,
   "metadata": {},
   "outputs": [
    {
     "data": {
      "image/png": "[encoded data removed]",
      "text/plain": [
       "<Figure size 720x432 with 1 Axes>"
      ]
     },
     "metadata": {},
     "output_type": "display_data"
    },
    {
     "data": {
      "text/plain": [
       "<Figure size 432x288 with 0 Axes>"
      ]
     },
     "metadata": {},
     "output_type": "display_data"
    }
   ],
   "source": [
    "fcns.visualize_W2V(w2v)"
   ]
  },
  {
   "cell_type": "code",
   "execution_count": 66,
   "metadata": {},
   "outputs": [],
   "source": [
    "most_similar_table = fcns.most_similar_table(w2v,['black','white','prison'])"
   ]
  },
  {
   "cell_type": "code",
   "execution_count": 67,
   "metadata": {},
   "outputs": [
    {
     "data": {
      "text/html": [
       "<div>\n",
       "<style scoped>\n",
       "    .dataframe tbody tr th:only-of-type {\n",
       "        vertical-align: middle;\n",
       "    }\n",
       "\n",
       "    .dataframe tbody tr th {\n",
       "        vertical-align: top;\n",
       "    }\n",
       "\n",
       "    .dataframe thead th {\n",
       "        text-align: right;\n",
       "    }\n",
       "</style>\n",
       "<table border=\"1\" class=\"dataframe\">\n",
       "  <thead>\n",
       "    <tr style=\"text-align: right;\">\n",
       "      <th></th>\n",
       "      <th>black</th>\n",
       "      <th>white</th>\n",
       "      <th>prison</th>\n",
       "    </tr>\n",
       "  </thead>\n",
       "  <tbody>\n",
       "    <tr>\n",
       "      <th>0</th>\n",
       "      <td>(white, 0.95)</td>\n",
       "      <td>(black, 0.95)</td>\n",
       "      <td>(entire, 0.69)</td>\n",
       "    </tr>\n",
       "    <tr>\n",
       "      <th>1</th>\n",
       "      <td>(color, 0.83)</td>\n",
       "      <td>(hispanic, 0.88)</td>\n",
       "      <td>(penal, 0.65)</td>\n",
       "    </tr>\n",
       "    <tr>\n",
       "      <th>2</th>\n",
       "      <td>(hispanic, 0.83)</td>\n",
       "      <td>(panther, 0.84)</td>\n",
       "      <td>(prisons, 0.64)</td>\n",
       "    </tr>\n",
       "    <tr>\n",
       "      <th>3</th>\n",
       "      <td>(panther, 0.82)</td>\n",
       "      <td>(brown, 0.83)</td>\n",
       "      <td>(general, 0.63)</td>\n",
       "    </tr>\n",
       "    <tr>\n",
       "      <th>4</th>\n",
       "      <td>(african, 0.82)</td>\n",
       "      <td>(male, 0.83)</td>\n",
       "      <td>(penitentiary, 0.63)</td>\n",
       "    </tr>\n",
       "    <tr>\n",
       "      <th>5</th>\n",
       "      <td>(mexican, 0.78)</td>\n",
       "      <td>(mexican, 0.83)</td>\n",
       "      <td>(super, 0.58)</td>\n",
       "    </tr>\n",
       "    <tr>\n",
       "      <th>6</th>\n",
       "      <td>(latino, 0.78)</td>\n",
       "      <td>(supremacists, 0.82)</td>\n",
       "      <td>(total, 0.57)</td>\n",
       "    </tr>\n",
       "    <tr>\n",
       "      <th>7</th>\n",
       "      <td>(male, 0.77)</td>\n",
       "      <td>(latino, 0.81)</td>\n",
       "      <td>(segments, 0.56)</td>\n",
       "    </tr>\n",
       "    <tr>\n",
       "      <th>8</th>\n",
       "      <td>(blacks, 0.77)</td>\n",
       "      <td>(supremacy, 0.79)</td>\n",
       "      <td>(current, 0.55)</td>\n",
       "    </tr>\n",
       "    <tr>\n",
       "      <th>9</th>\n",
       "      <td>(whites, 0.76)</td>\n",
       "      <td>(collar, 0.79)</td>\n",
       "      <td>(acc, 0.54)</td>\n",
       "    </tr>\n",
       "  </tbody>\n",
       "</table>\n",
       "</div>"
      ],
      "text/plain": [
       "              black                 white                prison\n",
       "0     (white, 0.95)         (black, 0.95)        (entire, 0.69)\n",
       "1     (color, 0.83)      (hispanic, 0.88)         (penal, 0.65)\n",
       "2  (hispanic, 0.83)       (panther, 0.84)       (prisons, 0.64)\n",
       "3   (panther, 0.82)         (brown, 0.83)       (general, 0.63)\n",
       "4   (african, 0.82)          (male, 0.83)  (penitentiary, 0.63)\n",
       "5   (mexican, 0.78)       (mexican, 0.83)         (super, 0.58)\n",
       "6    (latino, 0.78)  (supremacists, 0.82)         (total, 0.57)\n",
       "7      (male, 0.77)        (latino, 0.81)      (segments, 0.56)\n",
       "8    (blacks, 0.77)     (supremacy, 0.79)       (current, 0.55)\n",
       "9    (whites, 0.76)        (collar, 0.79)           (acc, 0.54)"
      ]
     },
     "execution_count": 67,
     "metadata": {},
     "output_type": "execute_result"
    }
   ],
   "source": [
    "most_similar_table"
   ]
  },
  {
   "cell_type": "code",
   "execution_count": 61,
   "metadata": {},
   "outputs": [],
   "source": [
    "#type(w2v.most_similar('guard'))"
   ]
  },
  {
   "cell_type": "code",
   "execution_count": 60,
   "metadata": {},
   "outputs": [],
   "source": [
    "#dict_similar = {}"
   ]
  },
  {
   "cell_type": "code",
   "execution_count": 59,
   "metadata": {},
   "outputs": [],
   "source": [
    "#dict_similar['guard'] = [(x[0],round(x[1],2)) for x in w2v.most_similar('guard')]\n",
    "#dict_similar['prison'] = [(x[0],round(x[1],2)) for x in w2v.most_similar('prison')]"
   ]
  },
  {
   "cell_type": "code",
   "execution_count": 53,
   "metadata": {},
   "outputs": [],
   "source": [
    "#list_comp = "
   ]
  },
  {
   "cell_type": "code",
   "execution_count": 54,
   "metadata": {},
   "outputs": [],
   "source": [
    "#list_comp"
   ]
  },
  {
   "cell_type": "code",
   "execution_count": 57,
   "metadata": {},
   "outputs": [],
   "source": [
    "#df_titles_gender = pd.DataFrame(dict([ (k,pd.Series(v)) for k,v in dict_similar.items() ]))"
   ]
  },
  {
   "cell_type": "code",
   "execution_count": 58,
   "metadata": {},
   "outputs": [],
   "source": [
    "#df_titles_gender"
   ]
  },
  {
   "cell_type": "code",
   "execution_count": null,
   "metadata": {},
   "outputs": [],
   "source": []
  }
 ],
 "metadata": {
  "kernelspec": {
   "display_name": "Python 3",
   "language": "python",
   "name": "python3"
  },
  "language_info": {
   "codemirror_mode": {
    "name": "ipython",
    "version": 3
   },
   "file_extension": ".py",
   "mimetype": "text/x-python",
   "name": "python",
   "nbconvert_exporter": "python",
   "pygments_lexer": "ipython3",
   "version": "3.7.1"
  }
 },
 "nbformat": 4,
 "nbformat_minor": 4
}
