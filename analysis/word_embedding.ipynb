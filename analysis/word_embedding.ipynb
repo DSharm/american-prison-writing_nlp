{
 "cells": [
  {
   "cell_type": "code",
   "execution_count": 4,
   "metadata": {},
   "outputs": [],
   "source": [
    "import lucem_illud_2020 #pip install git+git://github.com/Computational-Content-Analysis-2020/lucem_illud_2020.git\n",
    "\n",
    "#All these packages need to be installed from pip\n",
    "import requests #for http requests\n",
    "import pandas as pd #gives us DataFrames\n",
    "import matplotlib.pyplot as plt #For graphics\n",
    "import wordcloud #Makes word clouds\n",
    "import numpy as np #For divergences/distances\n",
    "import scipy #For divergences/distances\n",
    "import seaborn as sns #makes our plots look nicer\n",
    "import sklearn.manifold #For a manifold plot\n",
    "import json #For API responses\n",
    "import urllib.parse #For joining urls\n",
    "import bs4 #called `beautifulsoup4`, an html parser\n",
    "import gensim#For word2vec, etc\n",
    "\n",
    "# comp-linguistics\n",
    "import spacy\n",
    "\n",
    "#Displays the graphs\n",
    "import graphviz #You also need to install the command line graphviz\n",
    "\n",
    "#These are from the standard library\n",
    "import os.path\n",
    "import zipfile\n",
    "import subprocess\n",
    "import io\n",
    "import tempfile\n",
    "\n",
    "#These come with Python\n",
    "import re #for regexs\n",
    "import urllib.parse #For joining urls\n",
    "import io #for making http requests look like files\n",
    "import json #For Tumblr API responses\n",
    "import os.path #For checking if files exist\n",
    "import os #For making directories"
   ]
  },
  {
   "cell_type": "code",
   "execution_count": 5,
   "metadata": {},
   "outputs": [],
   "source": [
    "import importlib\n",
    "import helper_functions as fcns\n",
    "import data_ingest as ing"
   ]
  },
  {
   "cell_type": "code",
   "execution_count": 245,
   "metadata": {},
   "outputs": [
    {
     "data": {
      "text/plain": [
       "<module 'data_ingest' from '/Users/daminisharma/Dropbox/Harris MSCAPP/2019-20_Q3_Spring/Content Analysis/american-prison-writing_nlp/analysis/data_ingest.py'>"
      ]
     },
     "execution_count": 245,
     "metadata": {},
     "output_type": "execute_result"
    }
   ],
   "source": [
    "importlib.reload(fcns)\n",
    "importlib.reload(ing)"
   ]
  },
  {
   "cell_type": "code",
   "execution_count": 8,
   "metadata": {},
   "outputs": [
    {
     "data": {
      "text/html": [
       "<div>\n",
       "<style scoped>\n",
       "    .dataframe tbody tr th:only-of-type {\n",
       "        vertical-align: middle;\n",
       "    }\n",
       "\n",
       "    .dataframe tbody tr th {\n",
       "        vertical-align: top;\n",
       "    }\n",
       "\n",
       "    .dataframe thead th {\n",
       "        text-align: right;\n",
       "    }\n",
       "</style>\n",
       "<table border=\"1\" class=\"dataframe\">\n",
       "  <thead>\n",
       "    <tr style=\"text-align: right;\">\n",
       "      <th></th>\n",
       "      <th>url</th>\n",
       "      <th>title</th>\n",
       "      <th>text</th>\n",
       "      <th>date_written</th>\n",
       "      <th>pages</th>\n",
       "      <th>relation_to_prison</th>\n",
       "      <th>race</th>\n",
       "      <th>state</th>\n",
       "      <th>gender</th>\n",
       "      <th>race_agg</th>\n",
       "      <th>gender_agg</th>\n",
       "      <th>tokenized_text</th>\n",
       "      <th>normalized_text</th>\n",
       "      <th>tokenized_sents</th>\n",
       "      <th>normalized_sents</th>\n",
       "    </tr>\n",
       "  </thead>\n",
       "  <tbody>\n",
       "    <tr>\n",
       "      <th>0</th>\n",
       "      <td>/islandora/object/apw%3A12341395?solr_nav%5Bid...</td>\n",
       "      <td>A person cannot become who they need to be by ...</td>\n",
       "      <td>A PERSON CANNOT BECOME WHO THEY NEED TO BE BY...</td>\n",
       "      <td>2014-03-18</td>\n",
       "      <td>2 pages</td>\n",
       "      <td>Death Row Prisoner</td>\n",
       "      <td>White (non-Hispanic)</td>\n",
       "      <td>Indiana</td>\n",
       "      <td>Male</td>\n",
       "      <td>White (non-Hispanic)</td>\n",
       "      <td>Male</td>\n",
       "      <td>[A, PERSON, CANNOT, BECOME, WHO, THEY, NEED, T...</td>\n",
       "      <td>[person, need, remain, wesley, purkey, federal...</td>\n",
       "      <td>[[A, PERSON, CANNOT, BECOME], [WHO, THEY, NEED...</td>\n",
       "      <td>[[person], [need], [remaining], [], [], [wesle...</td>\n",
       "    </tr>\n",
       "    <tr>\n",
       "      <th>1</th>\n",
       "      <td>/islandora/object/apw%3A12341549?solr_nav%5Bid...</td>\n",
       "      <td>It is good justice is blind because she would ...</td>\n",
       "      <td>It is Good Justice is Blind Because She Would ...</td>\n",
       "      <td>2014-03-18</td>\n",
       "      <td>2 pages</td>\n",
       "      <td>Death Row Prisoner</td>\n",
       "      <td>White (non-Hispanic)</td>\n",
       "      <td>Indiana</td>\n",
       "      <td>Male</td>\n",
       "      <td>White (non-Hispanic)</td>\n",
       "      <td>Male</td>\n",
       "      <td>[It, is, Good, Justice, is, Blind, Because, Sh...</td>\n",
       "      <td>[good, justice, blind, like, thing, wesley, pu...</td>\n",
       "      <td>[[It, is, Good, Justice, is, Blind, Because, S...</td>\n",
       "      <td>[[good, justice, blind, like, things], [wesley...</td>\n",
       "    </tr>\n",
       "  </tbody>\n",
       "</table>\n",
       "</div>"
      ],
      "text/plain": [
       "                                                 url  \\\n",
       "0  /islandora/object/apw%3A12341395?solr_nav%5Bid...   \n",
       "1  /islandora/object/apw%3A12341549?solr_nav%5Bid...   \n",
       "\n",
       "                                               title  \\\n",
       "0  A person cannot become who they need to be by ...   \n",
       "1  It is good justice is blind because she would ...   \n",
       "\n",
       "                                                text date_written    pages  \\\n",
       "0   A PERSON CANNOT BECOME WHO THEY NEED TO BE BY...   2014-03-18  2 pages   \n",
       "1  It is Good Justice is Blind Because She Would ...   2014-03-18  2 pages   \n",
       "\n",
       "   relation_to_prison                  race    state gender  \\\n",
       "0  Death Row Prisoner  White (non-Hispanic)  Indiana   Male   \n",
       "1  Death Row Prisoner  White (non-Hispanic)  Indiana   Male   \n",
       "\n",
       "               race_agg gender_agg  \\\n",
       "0  White (non-Hispanic)       Male   \n",
       "1  White (non-Hispanic)       Male   \n",
       "\n",
       "                                      tokenized_text  \\\n",
       "0  [A, PERSON, CANNOT, BECOME, WHO, THEY, NEED, T...   \n",
       "1  [It, is, Good, Justice, is, Blind, Because, Sh...   \n",
       "\n",
       "                                     normalized_text  \\\n",
       "0  [person, need, remain, wesley, purkey, federal...   \n",
       "1  [good, justice, blind, like, thing, wesley, pu...   \n",
       "\n",
       "                                     tokenized_sents  \\\n",
       "0  [[A, PERSON, CANNOT, BECOME], [WHO, THEY, NEED...   \n",
       "1  [[It, is, Good, Justice, is, Blind, Because, S...   \n",
       "\n",
       "                                    normalized_sents  \n",
       "0  [[person], [need], [remaining], [], [], [wesle...  \n",
       "1  [[good, justice, blind, like, things], [wesley...  "
      ]
     },
     "execution_count": 8,
     "metadata": {},
     "output_type": "execute_result"
    }
   ],
   "source": [
    "data_directory = '../data/'\n",
    "filename = 'APW_final.csv'\n",
    "df = ing.load_prep_data(data_directory+filename)\n",
    "df = ing.agg_groups(df, 'race','race_agg',['African American','Latina/o / Hispanic','Multiracial','No information','White (non-Hispanic)'])\n",
    "df = ing.agg_groups(df, 'gender','gender_agg',['Female','Male','No Information'])\n",
    "df = ing.norm_text(df)\n",
    "df = ing.norm_sent(df)\n",
    "df = ing.norm_words(df)\n",
    "df.head(2)"
   ]
  },
  {
   "cell_type": "markdown",
   "metadata": {},
   "source": [
    "# Word2Vec"
   ]
  },
  {
   "cell_type": "code",
   "execution_count": 14,
   "metadata": {},
   "outputs": [],
   "source": [
    "w2v = fcns.word_2_vec(df)"
   ]
  },
  {
   "cell_type": "code",
   "execution_count": 152,
   "metadata": {},
   "outputs": [
    {
     "data": {
      "image/png": "[encoded data removed]",
      "text/plain": [
       "<Figure size 720x432 with 1 Axes>"
      ]
     },
     "metadata": {},
     "output_type": "display_data"
    }
   ],
   "source": [
    "fcns.visualize_W2V(w2v,numWords=100,n_components=80)"
   ]
  },
  {
   "cell_type": "code",
   "execution_count": 159,
   "metadata": {},
   "outputs": [
    {
     "data": {
      "text/html": [
       "<div>\n",
       "<style scoped>\n",
       "    .dataframe tbody tr th:only-of-type {\n",
       "        vertical-align: middle;\n",
       "    }\n",
       "\n",
       "    .dataframe tbody tr th {\n",
       "        vertical-align: top;\n",
       "    }\n",
       "\n",
       "    .dataframe thead th {\n",
       "        text-align: right;\n",
       "    }\n",
       "</style>\n",
       "<table border=\"1\" class=\"dataframe\">\n",
       "  <thead>\n",
       "    <tr style=\"text-align: right;\">\n",
       "      <th></th>\n",
       "      <th>people</th>\n",
       "      <th>black</th>\n",
       "      <th>white</th>\n",
       "      <th>life</th>\n",
       "      <th>help</th>\n",
       "      <th>god</th>\n",
       "      <th>male</th>\n",
       "      <th>female</th>\n",
       "    </tr>\n",
       "  </thead>\n",
       "  <tbody>\n",
       "    <tr>\n",
       "      <th>0</th>\n",
       "      <td>(individuals, 0.75)</td>\n",
       "      <td>(white, 0.95)</td>\n",
       "      <td>(black, 0.95)</td>\n",
       "      <td>(forever, 0.72)</td>\n",
       "      <td>(needed, 0.87)</td>\n",
       "      <td>(christ, 0.89)</td>\n",
       "      <td>(female, 0.91)</td>\n",
       "      <td>(assaulted, 0.93)</td>\n",
       "    </tr>\n",
       "    <tr>\n",
       "      <th>1</th>\n",
       "      <td>(especially, 0.71)</td>\n",
       "      <td>(color, 0.83)</td>\n",
       "      <td>(hispanic, 0.88)</td>\n",
       "      <td>(die, 0.71)</td>\n",
       "      <td>(need, 0.86)</td>\n",
       "      <td>(lord, 0.87)</td>\n",
       "      <td>(hispanic, 0.9)</td>\n",
       "      <td>(male, 0.91)</td>\n",
       "    </tr>\n",
       "    <tr>\n",
       "      <th>2</th>\n",
       "      <td>(communities, 0.69)</td>\n",
       "      <td>(hispanic, 0.83)</td>\n",
       "      <td>(panther, 0.84)</td>\n",
       "      <td>(lives, 0.7)</td>\n",
       "      <td>(helping, 0.82)</td>\n",
       "      <td>(jesus, 0.84)</td>\n",
       "      <td>(males, 0.89)</td>\n",
       "      <td>(sexually, 0.85)</td>\n",
       "    </tr>\n",
       "    <tr>\n",
       "      <th>3</th>\n",
       "      <td>(americans, 0.68)</td>\n",
       "      <td>(panther, 0.82)</td>\n",
       "      <td>(brown, 0.83)</td>\n",
       "      <td>(possibility, 0.7)</td>\n",
       "      <td>(teach, 0.81)</td>\n",
       "      <td>(forgiveness, 0.84)</td>\n",
       "      <td>(sexually, 0.87)</td>\n",
       "      <td>(cos, 0.83)</td>\n",
       "    </tr>\n",
       "    <tr>\n",
       "      <th>4</th>\n",
       "      <td>(lives, 0.68)</td>\n",
       "      <td>(african, 0.82)</td>\n",
       "      <td>(male, 0.83)</td>\n",
       "      <td>(meaning, 0.7)</td>\n",
       "      <td>(able, 0.81)</td>\n",
       "      <td>(words, 0.83)</td>\n",
       "      <td>(latino, 0.86)</td>\n",
       "      <td>(hispanic, 0.82)</td>\n",
       "    </tr>\n",
       "    <tr>\n",
       "      <th>5</th>\n",
       "      <td>(tend, 0.68)</td>\n",
       "      <td>(mexican, 0.78)</td>\n",
       "      <td>(mexican, 0.83)</td>\n",
       "      <td>(experiences, 0.7)</td>\n",
       "      <td>(trust, 0.8)</td>\n",
       "      <td>(faith, 0.82)</td>\n",
       "      <td>(predominantly, 0.84)</td>\n",
       "      <td>(assaulting, 0.81)</td>\n",
       "    </tr>\n",
       "    <tr>\n",
       "      <th>6</th>\n",
       "      <td>(vast, 0.68)</td>\n",
       "      <td>(latino, 0.78)</td>\n",
       "      <td>(supremacists, 0.82)</td>\n",
       "      <td>(choices, 0.69)</td>\n",
       "      <td>(willing, 0.79)</td>\n",
       "      <td>(love, 0.8)</td>\n",
       "      <td>(white, 0.83)</td>\n",
       "      <td>(abused, 0.8)</td>\n",
       "    </tr>\n",
       "    <tr>\n",
       "      <th>7</th>\n",
       "      <td>(convicts, 0.68)</td>\n",
       "      <td>(male, 0.77)</td>\n",
       "      <td>(latino, 0.81)</td>\n",
       "      <td>(possibly, 0.69)</td>\n",
       "      <td>(encourage, 0.79)</td>\n",
       "      <td>(bless, 0.8)</td>\n",
       "      <td>(abused, 0.82)</td>\n",
       "      <td>(supremacists, 0.79)</td>\n",
       "    </tr>\n",
       "    <tr>\n",
       "      <th>8</th>\n",
       "      <td>(minority, 0.67)</td>\n",
       "      <td>(blacks, 0.77)</td>\n",
       "      <td>(supremacy, 0.79)</td>\n",
       "      <td>(future, 0.69)</td>\n",
       "      <td>(educate, 0.78)</td>\n",
       "      <td>(word, 0.8)</td>\n",
       "      <td>(assaulted, 0.82)</td>\n",
       "      <td>(verbally, 0.79)</td>\n",
       "    </tr>\n",
       "    <tr>\n",
       "      <th>9</th>\n",
       "      <td>(places, 0.67)</td>\n",
       "      <td>(whites, 0.76)</td>\n",
       "      <td>(collar, 0.79)</td>\n",
       "      <td>(remain, 0.69)</td>\n",
       "      <td>(attention, 0.78)</td>\n",
       "      <td>(mercy, 0.8)</td>\n",
       "      <td>(whites, 0.8)</td>\n",
       "      <td>(raped, 0.79)</td>\n",
       "    </tr>\n",
       "  </tbody>\n",
       "</table>\n",
       "</div>"
      ],
      "text/plain": [
       "                people             black                 white  \\\n",
       "0  (individuals, 0.75)     (white, 0.95)         (black, 0.95)   \n",
       "1   (especially, 0.71)     (color, 0.83)      (hispanic, 0.88)   \n",
       "2  (communities, 0.69)  (hispanic, 0.83)       (panther, 0.84)   \n",
       "3    (americans, 0.68)   (panther, 0.82)         (brown, 0.83)   \n",
       "4        (lives, 0.68)   (african, 0.82)          (male, 0.83)   \n",
       "5         (tend, 0.68)   (mexican, 0.78)       (mexican, 0.83)   \n",
       "6         (vast, 0.68)    (latino, 0.78)  (supremacists, 0.82)   \n",
       "7     (convicts, 0.68)      (male, 0.77)        (latino, 0.81)   \n",
       "8     (minority, 0.67)    (blacks, 0.77)     (supremacy, 0.79)   \n",
       "9       (places, 0.67)    (whites, 0.76)        (collar, 0.79)   \n",
       "\n",
       "                 life               help                  god  \\\n",
       "0     (forever, 0.72)     (needed, 0.87)       (christ, 0.89)   \n",
       "1         (die, 0.71)       (need, 0.86)         (lord, 0.87)   \n",
       "2        (lives, 0.7)    (helping, 0.82)        (jesus, 0.84)   \n",
       "3  (possibility, 0.7)      (teach, 0.81)  (forgiveness, 0.84)   \n",
       "4      (meaning, 0.7)       (able, 0.81)        (words, 0.83)   \n",
       "5  (experiences, 0.7)       (trust, 0.8)        (faith, 0.82)   \n",
       "6     (choices, 0.69)    (willing, 0.79)          (love, 0.8)   \n",
       "7    (possibly, 0.69)  (encourage, 0.79)         (bless, 0.8)   \n",
       "8      (future, 0.69)    (educate, 0.78)          (word, 0.8)   \n",
       "9      (remain, 0.69)  (attention, 0.78)         (mercy, 0.8)   \n",
       "\n",
       "                    male                female  \n",
       "0         (female, 0.91)     (assaulted, 0.93)  \n",
       "1        (hispanic, 0.9)          (male, 0.91)  \n",
       "2          (males, 0.89)      (sexually, 0.85)  \n",
       "3       (sexually, 0.87)           (cos, 0.83)  \n",
       "4         (latino, 0.86)      (hispanic, 0.82)  \n",
       "5  (predominantly, 0.84)    (assaulting, 0.81)  \n",
       "6          (white, 0.83)         (abused, 0.8)  \n",
       "7         (abused, 0.82)  (supremacists, 0.79)  \n",
       "8      (assaulted, 0.82)      (verbally, 0.79)  \n",
       "9          (whites, 0.8)         (raped, 0.79)  "
      ]
     },
     "execution_count": 159,
     "metadata": {},
     "output_type": "execute_result"
    }
   ],
   "source": [
    "most_similar_table = fcns.most_similar_table(w2v,['people','black','white','life','help','god','male','female'])\n",
    "most_similar_table"
   ]
  },
  {
   "cell_type": "code",
   "execution_count": 136,
   "metadata": {},
   "outputs": [
    {
     "data": {
      "text/html": [
       "<div>\n",
       "<style scoped>\n",
       "    .dataframe tbody tr th:only-of-type {\n",
       "        vertical-align: middle;\n",
       "    }\n",
       "\n",
       "    .dataframe tbody tr th {\n",
       "        vertical-align: top;\n",
       "    }\n",
       "\n",
       "    .dataframe thead th {\n",
       "        text-align: right;\n",
       "    }\n",
       "</style>\n",
       "<table border=\"1\" class=\"dataframe\">\n",
       "  <thead>\n",
       "    <tr style=\"text-align: right;\">\n",
       "      <th></th>\n",
       "      <th>life+black-white</th>\n",
       "      <th>life+white-black</th>\n",
       "    </tr>\n",
       "  </thead>\n",
       "  <tbody>\n",
       "    <tr>\n",
       "      <th>0</th>\n",
       "      <td>(lives, 0.7255401611328125)</td>\n",
       "      <td>(possibility, 0.6888395547866821)</td>\n",
       "    </tr>\n",
       "    <tr>\n",
       "      <th>1</th>\n",
       "      <td>(meaning, 0.7151515483856201)</td>\n",
       "      <td>(die, 0.6870564818382263)</td>\n",
       "    </tr>\n",
       "    <tr>\n",
       "      <th>2</th>\n",
       "      <td>(future, 0.7126591205596924)</td>\n",
       "      <td>(forever, 0.674716591835022)</td>\n",
       "    </tr>\n",
       "    <tr>\n",
       "      <th>3</th>\n",
       "      <td>(forever, 0.7009782195091248)</td>\n",
       "      <td>(eventually, 0.6692510843276978)</td>\n",
       "    </tr>\n",
       "    <tr>\n",
       "      <th>4</th>\n",
       "      <td>(reality, 0.6982024312019348)</td>\n",
       "      <td>(possibly, 0.6606379747390747)</td>\n",
       "    </tr>\n",
       "    <tr>\n",
       "      <th>5</th>\n",
       "      <td>(experiences, 0.6958403587341309)</td>\n",
       "      <td>(chance, 0.646094024181366)</td>\n",
       "    </tr>\n",
       "    <tr>\n",
       "      <th>6</th>\n",
       "      <td>(remain, 0.6865257620811462)</td>\n",
       "      <td>(lifetime, 0.6373839974403381)</td>\n",
       "    </tr>\n",
       "    <tr>\n",
       "      <th>7</th>\n",
       "      <td>(choices, 0.6826993227005005)</td>\n",
       "      <td>(embarking, 0.6366658210754395)</td>\n",
       "    </tr>\n",
       "    <tr>\n",
       "      <th>8</th>\n",
       "      <td>(hope, 0.6813963651657104)</td>\n",
       "      <td>(painful, 0.6361178159713745)</td>\n",
       "    </tr>\n",
       "    <tr>\n",
       "      <th>9</th>\n",
       "      <td>(circumstances, 0.6772337555885315)</td>\n",
       "      <td>(choices, 0.6352708339691162)</td>\n",
       "    </tr>\n",
       "  </tbody>\n",
       "</table>\n",
       "</div>"
      ],
      "text/plain": [
       "                      life+black-white                   life+white-black\n",
       "0          (lives, 0.7255401611328125)  (possibility, 0.6888395547866821)\n",
       "1        (meaning, 0.7151515483856201)          (die, 0.6870564818382263)\n",
       "2         (future, 0.7126591205596924)       (forever, 0.674716591835022)\n",
       "3        (forever, 0.7009782195091248)   (eventually, 0.6692510843276978)\n",
       "4        (reality, 0.6982024312019348)     (possibly, 0.6606379747390747)\n",
       "5    (experiences, 0.6958403587341309)        (chance, 0.646094024181366)\n",
       "6         (remain, 0.6865257620811462)     (lifetime, 0.6373839974403381)\n",
       "7        (choices, 0.6826993227005005)    (embarking, 0.6366658210754395)\n",
       "8           (hope, 0.6813963651657104)      (painful, 0.6361178159713745)\n",
       "9  (circumstances, 0.6772337555885315)      (choices, 0.6352708339691162)"
      ]
     },
     "execution_count": 136,
     "metadata": {},
     "output_type": "execute_result"
    }
   ],
   "source": [
    "fcns.most_similar_analogy(['life'],['black'],['white'],w2v)"
   ]
  },
  {
   "cell_type": "code",
   "execution_count": 127,
   "metadata": {},
   "outputs": [
    {
     "data": {
      "text/html": [
       "<div>\n",
       "<style scoped>\n",
       "    .dataframe tbody tr th:only-of-type {\n",
       "        vertical-align: middle;\n",
       "    }\n",
       "\n",
       "    .dataframe tbody tr th {\n",
       "        vertical-align: top;\n",
       "    }\n",
       "\n",
       "    .dataframe thead th {\n",
       "        text-align: right;\n",
       "    }\n",
       "</style>\n",
       "<table border=\"1\" class=\"dataframe\">\n",
       "  <thead>\n",
       "    <tr style=\"text-align: right;\">\n",
       "      <th></th>\n",
       "      <th>police+black-white</th>\n",
       "      <th>police+white-black</th>\n",
       "    </tr>\n",
       "  </thead>\n",
       "  <tbody>\n",
       "    <tr>\n",
       "      <th>0</th>\n",
       "      <td>(enforcement, 0.6932991147041321)</td>\n",
       "      <td>(serino, 0.6518771648406982)</td>\n",
       "    </tr>\n",
       "    <tr>\n",
       "      <th>1</th>\n",
       "      <td>(racist, 0.6670251488685608)</td>\n",
       "      <td>(nypd, 0.6370021104812622)</td>\n",
       "    </tr>\n",
       "    <tr>\n",
       "      <th>2</th>\n",
       "      <td>(elected, 0.6538706421852112)</td>\n",
       "      <td>(gunning, 0.6230349540710449)</td>\n",
       "    </tr>\n",
       "    <tr>\n",
       "      <th>3</th>\n",
       "      <td>(prosecutors, 0.6480627655982971)</td>\n",
       "      <td>(enforcement, 0.6211321949958801)</td>\n",
       "    </tr>\n",
       "    <tr>\n",
       "      <th>4</th>\n",
       "      <td>(municipality, 0.636898934841156)</td>\n",
       "      <td>(co, 0.615379810333252)</td>\n",
       "    </tr>\n",
       "    <tr>\n",
       "      <th>5</th>\n",
       "      <td>(union, 0.6366269588470459)</td>\n",
       "      <td>(correction, 0.6005938053131104)</td>\n",
       "    </tr>\n",
       "    <tr>\n",
       "      <th>6</th>\n",
       "      <td>(corruption, 0.630424976348877)</td>\n",
       "      <td>(unprofessionalism, 0.5994969606399536)</td>\n",
       "    </tr>\n",
       "    <tr>\n",
       "      <th>7</th>\n",
       "      <td>(corrupt, 0.6242858171463013)</td>\n",
       "      <td>(cops, 0.5981272459030151)</td>\n",
       "    </tr>\n",
       "    <tr>\n",
       "      <th>8</th>\n",
       "      <td>(legislators, 0.6238316297531128)</td>\n",
       "      <td>(dominic, 0.5970827341079712)</td>\n",
       "    </tr>\n",
       "    <tr>\n",
       "      <th>9</th>\n",
       "      <td>(lawyers, 0.6184043884277344)</td>\n",
       "      <td>(sis, 0.5930914878845215)</td>\n",
       "    </tr>\n",
       "  </tbody>\n",
       "</table>\n",
       "</div>"
      ],
      "text/plain": [
       "                  police+black-white                       police+white-black\n",
       "0  (enforcement, 0.6932991147041321)             (serino, 0.6518771648406982)\n",
       "1       (racist, 0.6670251488685608)               (nypd, 0.6370021104812622)\n",
       "2      (elected, 0.6538706421852112)            (gunning, 0.6230349540710449)\n",
       "3  (prosecutors, 0.6480627655982971)        (enforcement, 0.6211321949958801)\n",
       "4  (municipality, 0.636898934841156)                  (co, 0.615379810333252)\n",
       "5        (union, 0.6366269588470459)         (correction, 0.6005938053131104)\n",
       "6    (corruption, 0.630424976348877)  (unprofessionalism, 0.5994969606399536)\n",
       "7      (corrupt, 0.6242858171463013)               (cops, 0.5981272459030151)\n",
       "8  (legislators, 0.6238316297531128)            (dominic, 0.5970827341079712)\n",
       "9      (lawyers, 0.6184043884277344)                (sis, 0.5930914878845215)"
      ]
     },
     "execution_count": 127,
     "metadata": {},
     "output_type": "execute_result"
    }
   ],
   "source": [
    "fcns.most_similar_analogy(['police'],['black'],['white'],w2v)"
   ]
  },
  {
   "cell_type": "markdown",
   "metadata": {},
   "source": [
    "# Doc2Vec"
   ]
  },
  {
   "cell_type": "code",
   "execution_count": 103,
   "metadata": {},
   "outputs": [
    {
     "name": "stderr",
     "output_type": "stream",
     "text": [
      "/Users/daminisharma/miniconda3/lib/python3.7/site-packages/gensim/models/doc2vec.py:574: UserWarning: The parameter `size` is deprecated, will be removed in 4.0.0, use `vector_size` instead.\n",
      "  warnings.warn(\"The parameter `size` is deprecated, will be removed in 4.0.0, use `vector_size` instead.\")\n"
     ]
    }
   ],
   "source": [
    "keywords = ['criminal', 'justice', 'health', 'black', 'white', 'man', 'woman', 'inmate','guard','mental','god','law']\n",
    "\n",
    "d2v = fcns.d2v(df,keywords)\n"
   ]
  },
  {
   "cell_type": "code",
   "execution_count": 169,
   "metadata": {},
   "outputs": [
    {
     "data": {
      "image/png": "[encoded data removed]",
      "text/plain": [
       "<Figure size 432x288 with 2 Axes>"
      ]
     },
     "metadata": {
      "needs_background": "light"
     },
     "output_type": "display_data"
    }
   ],
   "source": [
    "#fcns.d2v_similar_heatmap(d2v,df,[d2v['police']-d2v['white']+d2v['black']],[d2v['police']-d2v['black']+d2v['white']])\n",
    "#fcns.d2v_similar_heatmap(d2v,df,[d2v['racism']-d2v['white']+d2v['black']],[d2v['racism']-d2v['black']+d2v['white']])\n",
    "#fcns.d2v_similar_heatmap(d2v,df,[d2v['doctor']-d2v['white']+d2v['black']],[d2v['doctor']-d2v['black']+d2v['white']])\n",
    "\n",
    "targetDocs1, targetDocs2 = fcns.d2v_similar_heatmap(d2v,df,[d2v['police']-d2v['white']+d2v['black']],[d2v['police']-d2v['black']+d2v['white']])\n",
    "\n",
    "\n"
   ]
  },
  {
   "cell_type": "code",
   "execution_count": 172,
   "metadata": {},
   "outputs": [
    {
     "name": "stdout",
     "output_type": "stream",
     "text": [
      "April Fools, all year long\n",
      "Found!\n",
      "Praetorian correctional warehouse money pits: Pol otism or helotism?\n",
      "Protection or destruction\n",
      "Sources of stress in prisons\n",
      "The United States has the world's largest inmate population\n",
      "The purpose of prisons… / Introduction\n",
      "Town hall meeting\n",
      "Where's my mail\n",
      "No need to know\n"
     ]
    }
   ],
   "source": [
    "for x in targetDocs1:\n",
    "    print(x)"
   ]
  },
  {
   "cell_type": "code",
   "execution_count": 173,
   "metadata": {},
   "outputs": [
    {
     "name": "stdout",
     "output_type": "stream",
     "text": [
      "A colossal disparity in the Florida prison system\n",
      "Caveat emptor\n",
      "Counting Pictures segment\n",
      "Easy pickings DOCCS' overtime scams making state coffers dry\n",
      "I am a Vietnam era military vet\n",
      "Inmate grievance\n",
      "Protection or destruction\n",
      "What Cuomo did\n",
      "Drama\n",
      "No need to know\n"
     ]
    }
   ],
   "source": [
    "for x in targetDocs2:\n",
    "    print(x)"
   ]
  },
  {
   "cell_type": "code",
   "execution_count": 175,
   "metadata": {},
   "outputs": [
    {
     "data": {
      "text/plain": [
       "array([[0.78619087]], dtype=float32)"
      ]
     },
     "execution_count": 175,
     "metadata": {},
     "output_type": "execute_result"
    }
   ],
   "source": [
    "#The purpose of prisons… / Introduction\n",
    "\n",
    "#Easy pickings DOCCS' overtime scams making state coffers dry\n",
    "\n",
    "sklearn.metrics.pairwise.cosine_similarity(d2v.docvecs['The purpose of prisons… / Introduction'].reshape(1, -1), d2v.docvecs[\"Easy pickings DOCCS' overtime scams making state coffers dry\"].reshape(1, -1))\n",
    "\n",
    "\n"
   ]
  },
  {
   "cell_type": "code",
   "execution_count": 176,
   "metadata": {},
   "outputs": [
    {
     "data": {
      "text/html": [
       "<div>\n",
       "<style scoped>\n",
       "    .dataframe tbody tr th:only-of-type {\n",
       "        vertical-align: middle;\n",
       "    }\n",
       "\n",
       "    .dataframe tbody tr th {\n",
       "        vertical-align: top;\n",
       "    }\n",
       "\n",
       "    .dataframe thead th {\n",
       "        text-align: right;\n",
       "    }\n",
       "</style>\n",
       "<table border=\"1\" class=\"dataframe\">\n",
       "  <thead>\n",
       "    <tr style=\"text-align: right;\">\n",
       "      <th></th>\n",
       "      <th>url</th>\n",
       "      <th>title</th>\n",
       "      <th>text</th>\n",
       "      <th>date_written</th>\n",
       "      <th>pages</th>\n",
       "      <th>relation_to_prison</th>\n",
       "      <th>race</th>\n",
       "      <th>state</th>\n",
       "      <th>gender</th>\n",
       "      <th>race_agg</th>\n",
       "      <th>gender_agg</th>\n",
       "      <th>tokenized_text</th>\n",
       "      <th>normalized_text</th>\n",
       "      <th>tokenized_sents</th>\n",
       "      <th>normalized_sents</th>\n",
       "      <th>tokenized_words</th>\n",
       "      <th>normalized_words</th>\n",
       "      <th>TaggedTexts</th>\n",
       "    </tr>\n",
       "  </thead>\n",
       "  <tbody>\n",
       "    <tr>\n",
       "      <th>0</th>\n",
       "      <td>/islandora/object/apw%3A12341395?solr_nav%5Bid...</td>\n",
       "      <td>A person cannot become who they need to be by ...</td>\n",
       "      <td>A PERSON CANNOT BECOME WHO THEY NEED TO BE BY...</td>\n",
       "      <td>2014-03-18</td>\n",
       "      <td>2 pages</td>\n",
       "      <td>Death Row Prisoner</td>\n",
       "      <td>White (non-Hispanic)</td>\n",
       "      <td>Indiana</td>\n",
       "      <td>Male</td>\n",
       "      <td>White (non-Hispanic)</td>\n",
       "      <td>Male</td>\n",
       "      <td>[A, PERSON, CANNOT, BECOME, WHO, THEY, NEED, T...</td>\n",
       "      <td>[person, need, remain, wesley, purkey, federal...</td>\n",
       "      <td>[[A, PERSON, CANNOT, BECOME], [WHO, THEY, NEED...</td>\n",
       "      <td>[[person], [need], [remaining], [], [], [wesle...</td>\n",
       "      <td>[A, PERSON, CANNOT, BECOME, WHO, THEY, NEED, T...</td>\n",
       "      <td>[person, need, remaining, wesley, purkey, fede...</td>\n",
       "      <td>([person, need, remaining, wesley, purkey, fed...</td>\n",
       "    </tr>\n",
       "    <tr>\n",
       "      <th>1</th>\n",
       "      <td>/islandora/object/apw%3A12341549?solr_nav%5Bid...</td>\n",
       "      <td>It is good justice is blind because she would ...</td>\n",
       "      <td>It is Good Justice is Blind Because She Would ...</td>\n",
       "      <td>2014-03-18</td>\n",
       "      <td>2 pages</td>\n",
       "      <td>Death Row Prisoner</td>\n",
       "      <td>White (non-Hispanic)</td>\n",
       "      <td>Indiana</td>\n",
       "      <td>Male</td>\n",
       "      <td>White (non-Hispanic)</td>\n",
       "      <td>Male</td>\n",
       "      <td>[It, is, Good, Justice, is, Blind, Because, Sh...</td>\n",
       "      <td>[good, justice, blind, like, thing, wesley, pu...</td>\n",
       "      <td>[[It, is, Good, Justice, is, Blind, Because, S...</td>\n",
       "      <td>[[good, justice, blind, like, things], [wesley...</td>\n",
       "      <td>[It, is, Good, Justice, is, Blind, Because, Sh...</td>\n",
       "      <td>[good, justice, blind, like, things, wesley, p...</td>\n",
       "      <td>([good, justice, blind, like, things, wesley, ...</td>\n",
       "    </tr>\n",
       "  </tbody>\n",
       "</table>\n",
       "</div>"
      ],
      "text/plain": [
       "                                                 url  \\\n",
       "0  /islandora/object/apw%3A12341395?solr_nav%5Bid...   \n",
       "1  /islandora/object/apw%3A12341549?solr_nav%5Bid...   \n",
       "\n",
       "                                               title  \\\n",
       "0  A person cannot become who they need to be by ...   \n",
       "1  It is good justice is blind because she would ...   \n",
       "\n",
       "                                                text date_written    pages  \\\n",
       "0   A PERSON CANNOT BECOME WHO THEY NEED TO BE BY...   2014-03-18  2 pages   \n",
       "1  It is Good Justice is Blind Because She Would ...   2014-03-18  2 pages   \n",
       "\n",
       "   relation_to_prison                  race    state gender  \\\n",
       "0  Death Row Prisoner  White (non-Hispanic)  Indiana   Male   \n",
       "1  Death Row Prisoner  White (non-Hispanic)  Indiana   Male   \n",
       "\n",
       "               race_agg gender_agg  \\\n",
       "0  White (non-Hispanic)       Male   \n",
       "1  White (non-Hispanic)       Male   \n",
       "\n",
       "                                      tokenized_text  \\\n",
       "0  [A, PERSON, CANNOT, BECOME, WHO, THEY, NEED, T...   \n",
       "1  [It, is, Good, Justice, is, Blind, Because, Sh...   \n",
       "\n",
       "                                     normalized_text  \\\n",
       "0  [person, need, remain, wesley, purkey, federal...   \n",
       "1  [good, justice, blind, like, thing, wesley, pu...   \n",
       "\n",
       "                                     tokenized_sents  \\\n",
       "0  [[A, PERSON, CANNOT, BECOME], [WHO, THEY, NEED...   \n",
       "1  [[It, is, Good, Justice, is, Blind, Because, S...   \n",
       "\n",
       "                                    normalized_sents  \\\n",
       "0  [[person], [need], [remaining], [], [], [wesle...   \n",
       "1  [[good, justice, blind, like, things], [wesley...   \n",
       "\n",
       "                                     tokenized_words  \\\n",
       "0  [A, PERSON, CANNOT, BECOME, WHO, THEY, NEED, T...   \n",
       "1  [It, is, Good, Justice, is, Blind, Because, Sh...   \n",
       "\n",
       "                                    normalized_words  \\\n",
       "0  [person, need, remaining, wesley, purkey, fede...   \n",
       "1  [good, justice, blind, like, things, wesley, p...   \n",
       "\n",
       "                                         TaggedTexts  \n",
       "0  ([person, need, remaining, wesley, purkey, fed...  \n",
       "1  ([good, justice, blind, like, things, wesley, ...  "
      ]
     },
     "execution_count": 176,
     "metadata": {},
     "output_type": "execute_result"
    }
   ],
   "source": [
    "df.head(2)"
   ]
  },
  {
   "cell_type": "code",
   "execution_count": 177,
   "metadata": {},
   "outputs": [],
   "source": [
    "black_essays = df[df['race_agg']=='African American']"
   ]
  },
  {
   "cell_type": "code",
   "execution_count": 178,
   "metadata": {},
   "outputs": [],
   "source": [
    "white_essays = df[df['race_agg']=='White (non-Hispanic)']"
   ]
  },
  {
   "cell_type": "code",
   "execution_count": 180,
   "metadata": {},
   "outputs": [
    {
     "data": {
      "text/plain": [
       "(673, 18)"
      ]
     },
     "execution_count": 180,
     "metadata": {},
     "output_type": "execute_result"
    }
   ],
   "source": [
    "black_essays.shape"
   ]
  },
  {
   "cell_type": "code",
   "execution_count": 181,
   "metadata": {},
   "outputs": [
    {
     "data": {
      "text/plain": [
       "(861, 18)"
      ]
     },
     "execution_count": 181,
     "metadata": {},
     "output_type": "execute_result"
    }
   ],
   "source": [
    "white_essays.shape"
   ]
  },
  {
   "cell_type": "code",
   "execution_count": 182,
   "metadata": {},
   "outputs": [
    {
     "data": {
      "text/plain": [
       "pandas.core.series.Series"
      ]
     },
     "execution_count": 182,
     "metadata": {},
     "output_type": "execute_result"
    }
   ],
   "source": [
    "type(targetDocs2)"
   ]
  },
  {
   "cell_type": "code",
   "execution_count": 184,
   "metadata": {},
   "outputs": [
    {
     "data": {
      "text/plain": [
       "1626    The inmate and the prison guard or the night t...\n",
       "2035     Reflections from the cement coffin June 17, 2013\n",
       "983                        Life without parole is torture\n",
       "1867                                     We can't breathe\n",
       "804                                 I'm a prisoner in the\n",
       "2001                                    Cruel and unusual\n",
       "1208                                Paroled into paradise\n",
       "200                      Aramark food corporation scandal\n",
       "2062    The rhetoric of imprisonment and the reality o...\n",
       "199                                              Apostasy\n",
       "341     Celldweller journal: Words alone aren't enough...\n",
       "1554                                       The black robe\n",
       "2039    Reflections from the cement coffin June 6, 201...\n",
       "1424                                         Slavery daze\n",
       "1393                                      Sanctum of evil\n",
       "360                                Chronicles of February\n",
       "596     For as long as I could remember, life has alwa...\n",
       "944                                      Kitchen politics\n",
       "615                  From experience I've come to realize\n",
       "1072                                My destiny, my dream.\n",
       "Name: title, dtype: object"
      ]
     },
     "execution_count": 184,
     "metadata": {},
     "output_type": "execute_result"
    }
   ],
   "source": [
    "black_essays['title'].sample(20)"
   ]
  },
  {
   "cell_type": "code",
   "execution_count": 243,
   "metadata": {},
   "outputs": [],
   "source": [
    "sample_black = black_essays['title'].sample(10,random_state=0)\n",
    "sample_white = white_essays['title'].sample(10,random_state=0)"
   ]
  },
  {
   "cell_type": "code",
   "execution_count": 246,
   "metadata": {},
   "outputs": [
    {
     "data": {
      "image/png": "[encoded data removed]",
      "text/plain": [
       "<Figure size 432x288 with 2 Axes>"
      ]
     },
     "metadata": {
      "needs_background": "light"
     },
     "output_type": "display_data"
    }
   ],
   "source": [
    "fcns.heatmap_doc_similar(\"Black\",sample_black,\"White\",sample_white,d2v)\n"
   ]
  },
  {
   "cell_type": "code",
   "execution_count": 209,
   "metadata": {},
   "outputs": [
    {
     "name": "stdout",
     "output_type": "stream",
     "text": [
      "The real solution to solving \"crime\" is building strong communities\n",
      "The Texas prison system\n",
      "Slavery daze\n",
      "Liberation via 'the law' of courage\n",
      "A day before my 18th birthday\n",
      "At what point do we act out our ideas?\n",
      "Journals on MLK day\n",
      "R.R.L. Railroad line\n",
      "Part 2: essay submission\n",
      "R u the birdcatcher\n",
      "Liberating toxic masculinity (a prisoner's narrative)\n",
      "Political education deprived\n",
      "Holiday blues 'n blahs\n",
      "It was all a dream\n",
      "Governmental intentional infliction of oppressive injustice\n"
     ]
    }
   ],
   "source": [
    "for x in sample_black:\n",
    "    print(x)"
   ]
  },
  {
   "cell_type": "code",
   "execution_count": 234,
   "metadata": {},
   "outputs": [],
   "source": [
    "#d2v.most_similar( [ d2v.docvecs['Part 2: essay submission'] ], topn=10) "
   ]
  },
  {
   "cell_type": "code",
   "execution_count": 210,
   "metadata": {},
   "outputs": [
    {
     "name": "stdout",
     "output_type": "stream",
     "text": [
      "A look in on the prison performing arts theater and poetry classes\n",
      "Wrongfully convicted\n",
      "Saving Earth through population control; restoring quality of life\n",
      "The purpose of prisons… / Introduction\n",
      "The convict activist/the convict vote\n",
      "Taxpayers lose money\n",
      "Electric monitoring: The intelligent alternative to prison\n",
      "For the last 3 years\n",
      "Prisoners divided and conquered\n",
      "The phone banks outside in the yard\n",
      "I write under the pen name\n",
      "My story in short form\n",
      "I am writing this from my cell\n",
      "My name is Vincent Calamia\n",
      "Just a little pregnant\n"
     ]
    }
   ],
   "source": [
    "for x in sample_white:\n",
    "    print(x)"
   ]
  },
  {
   "cell_type": "code",
   "execution_count": 235,
   "metadata": {},
   "outputs": [],
   "source": [
    "#d2v.most_similar( [ d2v.docvecs['Taxpayers lose money'] ], topn=10) \n",
    "\n"
   ]
  },
  {
   "cell_type": "code",
   "execution_count": 236,
   "metadata": {},
   "outputs": [],
   "source": [
    "#d2v.most_similar( [ d2v.docvecs['Part 2: essay submission'] ], topn=10) "
   ]
  },
  {
   "cell_type": "code",
   "execution_count": 237,
   "metadata": {},
   "outputs": [],
   "source": [
    "\n",
    "#d2v.most_similar( [ d2v.docvecs['The convict activist/the convict vote'] ], topn=10) "
   ]
  },
  {
   "cell_type": "code",
   "execution_count": 238,
   "metadata": {},
   "outputs": [],
   "source": [
    "#d2v.most_similar( [ d2v.docvecs['Slavery daze'] ], topn=10) "
   ]
  },
  {
   "cell_type": "code",
   "execution_count": 239,
   "metadata": {},
   "outputs": [],
   "source": [
    "\n",
    "\n",
    "#d2v.most_similar( [ d2v.docvecs['Taxpayers lose money'] ], topn=10) "
   ]
  },
  {
   "cell_type": "code",
   "execution_count": 253,
   "metadata": {},
   "outputs": [
    {
     "name": "stdout",
     "output_type": "stream",
     "text": [
      "[('trajectory', 0.9267054796218872), ('enslaved', 0.915256142616272), ('capturing', 0.9094575643539429), ('greedy', 0.9061924815177917), ('rich', 0.9006221890449524), ('sadists', 0.8964606523513794), ('rebirth', 0.8911822438240051), ('uniquely', 0.8902574777603149), ('instilled', 0.8874942064285278), ('fighters', 0.8862932920455933)]\n",
      "\n",
      "\n",
      "[('mick', 0.984224796295166), ('procession', 0.983277440071106), ('stupor', 0.9820598363876343), ('cabin', 0.9796024560928345), ('dough', 0.9783211350440979), ('brakes', 0.9781836867332458), ('leftovers', 0.9746296405792236), ('bic', 0.9741660952568054), ('propped', 0.9740166068077087), ('rotted', 0.9738188982009888)]\n"
     ]
    }
   ],
   "source": [
    "title1 = \"Slavery daze\"\n",
    "title2 = \"The phone banks outside in the yard\"\n",
    "title3 = \"Taxpayers lose money\"\n",
    "title4 = \"The convict activist/the convict vote\"\n",
    "\n",
    "print(d2v.most_similar( [ d2v.docvecs[title1] ], topn=10) )\n",
    "print(\"\\n\")\n",
    "print(d2v.most_similar( [ d2v.docvecs[title2] ], topn=10) )"
   ]
  },
  {
   "cell_type": "code",
   "execution_count": 258,
   "metadata": {},
   "outputs": [],
   "source": [
    "dict1 = {}\n",
    "dict1[title1] = [(x[0]) for x in d2v.most_similar( [ d2v.docvecs[title1] ], topn=10)]\n",
    "dict1[\"NEUTRAL: \"+title2] = [(x[0]) for x in d2v.most_similar( [ d2v.docvecs[title2] ], topn=10)]\n",
    "dict1[\"POSITIVE: \"+title3] = [(x[0]) for x in d2v.most_similar( [ d2v.docvecs[title3] ], topn=10)]\n",
    "dict1[\"NEGATIVE: \"+title4] = [(x[0]) for x in d2v.most_similar( [ d2v.docvecs[title4] ], topn=10)]\n",
    "\n",
    "dict_df = pd.DataFrame(dict([ (k,pd.Series(v)) for k,v in dict1.items() ]))"
   ]
  },
  {
   "cell_type": "code",
   "execution_count": 259,
   "metadata": {},
   "outputs": [
    {
     "data": {
      "text/html": [
       "<div>\n",
       "<style scoped>\n",
       "    .dataframe tbody tr th:only-of-type {\n",
       "        vertical-align: middle;\n",
       "    }\n",
       "\n",
       "    .dataframe tbody tr th {\n",
       "        vertical-align: top;\n",
       "    }\n",
       "\n",
       "    .dataframe thead th {\n",
       "        text-align: right;\n",
       "    }\n",
       "</style>\n",
       "<table border=\"1\" class=\"dataframe\">\n",
       "  <thead>\n",
       "    <tr style=\"text-align: right;\">\n",
       "      <th></th>\n",
       "      <th>Slavery daze</th>\n",
       "      <th>NEUTRAL: The phone banks outside in the yard</th>\n",
       "      <th>POSITIVE: Taxpayers lose money</th>\n",
       "      <th>NEGATIVE: The convict activist/the convict vote</th>\n",
       "    </tr>\n",
       "  </thead>\n",
       "  <tbody>\n",
       "    <tr>\n",
       "      <th>0</th>\n",
       "      <td>trajectory</td>\n",
       "      <td>mick</td>\n",
       "      <td>cited</td>\n",
       "      <td>allocation</td>\n",
       "    </tr>\n",
       "    <tr>\n",
       "      <th>1</th>\n",
       "      <td>enslaved</td>\n",
       "      <td>procession</td>\n",
       "      <td>damages</td>\n",
       "      <td>termed</td>\n",
       "    </tr>\n",
       "    <tr>\n",
       "      <th>2</th>\n",
       "      <td>capturing</td>\n",
       "      <td>stupor</td>\n",
       "      <td>misrepresented</td>\n",
       "      <td>allocating</td>\n",
       "    </tr>\n",
       "    <tr>\n",
       "      <th>3</th>\n",
       "      <td>greedy</td>\n",
       "      <td>cabin</td>\n",
       "      <td>petitions</td>\n",
       "      <td>soto</td>\n",
       "    </tr>\n",
       "    <tr>\n",
       "      <th>4</th>\n",
       "      <td>rich</td>\n",
       "      <td>dough</td>\n",
       "      <td>milked</td>\n",
       "      <td>spartan</td>\n",
       "    </tr>\n",
       "    <tr>\n",
       "      <th>5</th>\n",
       "      <td>sadists</td>\n",
       "      <td>brakes</td>\n",
       "      <td>subsequent</td>\n",
       "      <td>ineffectual</td>\n",
       "    </tr>\n",
       "    <tr>\n",
       "      <th>6</th>\n",
       "      <td>rebirth</td>\n",
       "      <td>leftovers</td>\n",
       "      <td>statute</td>\n",
       "      <td>needlessly</td>\n",
       "    </tr>\n",
       "    <tr>\n",
       "      <th>7</th>\n",
       "      <td>uniquely</td>\n",
       "      <td>bic</td>\n",
       "      <td>dismissal</td>\n",
       "      <td>reborn</td>\n",
       "    </tr>\n",
       "    <tr>\n",
       "      <th>8</th>\n",
       "      <td>instilled</td>\n",
       "      <td>propped</td>\n",
       "      <td>pursuant</td>\n",
       "      <td>kmk</td>\n",
       "    </tr>\n",
       "    <tr>\n",
       "      <th>9</th>\n",
       "      <td>fighters</td>\n",
       "      <td>rotted</td>\n",
       "      <td>accord</td>\n",
       "      <td>vo</td>\n",
       "    </tr>\n",
       "  </tbody>\n",
       "</table>\n",
       "</div>"
      ],
      "text/plain": [
       "  Slavery daze NEUTRAL: The phone banks outside in the yard  \\\n",
       "0   trajectory                                         mick   \n",
       "1     enslaved                                   procession   \n",
       "2    capturing                                       stupor   \n",
       "3       greedy                                        cabin   \n",
       "4         rich                                        dough   \n",
       "5      sadists                                       brakes   \n",
       "6      rebirth                                    leftovers   \n",
       "7     uniquely                                          bic   \n",
       "8    instilled                                      propped   \n",
       "9     fighters                                       rotted   \n",
       "\n",
       "  POSITIVE: Taxpayers lose money  \\\n",
       "0                          cited   \n",
       "1                        damages   \n",
       "2                 misrepresented   \n",
       "3                      petitions   \n",
       "4                         milked   \n",
       "5                     subsequent   \n",
       "6                        statute   \n",
       "7                      dismissal   \n",
       "8                       pursuant   \n",
       "9                         accord   \n",
       "\n",
       "  NEGATIVE: The convict activist/the convict vote  \n",
       "0                                      allocation  \n",
       "1                                          termed  \n",
       "2                                      allocating  \n",
       "3                                            soto  \n",
       "4                                         spartan  \n",
       "5                                     ineffectual  \n",
       "6                                      needlessly  \n",
       "7                                          reborn  \n",
       "8                                             kmk  \n",
       "9                                              vo  "
      ]
     },
     "execution_count": 259,
     "metadata": {},
     "output_type": "execute_result"
    }
   ],
   "source": [
    "dict_df"
   ]
  },
  {
   "cell_type": "code",
   "execution_count": 251,
   "metadata": {},
   "outputs": [
    {
     "data": {
      "text/plain": [
       "['trajectory',\n",
       " 'enslaved',\n",
       " 'capturing',\n",
       " 'greedy',\n",
       " 'rich',\n",
       " 'sadists',\n",
       " 'rebirth',\n",
       " 'uniquely',\n",
       " 'instilled',\n",
       " 'fighters']"
      ]
     },
     "execution_count": 251,
     "metadata": {},
     "output_type": "execute_result"
    }
   ],
   "source": [
    " \n",
    "    \n",
    "[(x[0]) for x in d2v.most_similar( [ d2v.docvecs[title1] ], topn=10)]"
   ]
  },
  {
   "cell_type": "code",
   "execution_count": 212,
   "metadata": {},
   "outputs": [],
   "source": [
    "male_essays = df[df['gender_agg']=='Male']\n",
    "female_essays = df[df['gender_agg']=='Female']\n"
   ]
  },
  {
   "cell_type": "code",
   "execution_count": 226,
   "metadata": {},
   "outputs": [],
   "source": [
    "sample_male = male_essays['title'].sample(10,random_state=0)\n",
    "sample_female = female_essays['title'].sample(10,random_state=0)"
   ]
  },
  {
   "cell_type": "code",
   "execution_count": 249,
   "metadata": {},
   "outputs": [
    {
     "data": {
      "image/png": "[encoded data removed]",
      "text/plain": [
       "<Figure size 432x288 with 2 Axes>"
      ]
     },
     "metadata": {
      "needs_background": "light"
     },
     "output_type": "display_data"
    }
   ],
   "source": [
    "fcns.heatmap_doc_similar(\"Male\",sample_male,\"Female\",sample_female,d2v)"
   ]
  },
  {
   "cell_type": "code",
   "execution_count": null,
   "metadata": {
    "scrolled": true
   },
   "outputs": [],
   "source": [
    "\n"
   ]
  },
  {
   "cell_type": "code",
   "execution_count": 228,
   "metadata": {},
   "outputs": [
    {
     "name": "stdout",
     "output_type": "stream",
     "text": [
      "Is lady justice really blind?\n",
      "Hunger games, prepare!\n",
      "Southern discomfort\n",
      "A lonely world\n",
      "The United States of America\n",
      "Corruption at N.E.C.C.\n",
      "Thank you for giving me the opportunity...\n",
      "The reentry movement is long overdue\n",
      "The phone banks outside in the yard\n",
      "An unappreciative witness to the execution of Jimmie Jeffers\n"
     ]
    }
   ],
   "source": [
    "for x in sample_male:\n",
    "    print(x)"
   ]
  },
  {
   "cell_type": "code",
   "execution_count": 229,
   "metadata": {},
   "outputs": [
    {
     "name": "stdout",
     "output_type": "stream",
     "text": [
      "A lot has been written\n",
      "How state funds are spent on prisons\n",
      "Mass incarceration- What is it costing us and our children?\n",
      "Convicted terrorist Kevin James speaks\n",
      "Civil war\n",
      "My crime: The very simplified version of my life\n",
      "My name is Chanell Burnette\n",
      "The redemptive power of yoga\n",
      "I am writing regarding issues\n",
      "The modified steel bed\n"
     ]
    }
   ],
   "source": [
    "for x in sample_female:\n",
    "    print(x)"
   ]
  },
  {
   "cell_type": "code",
   "execution_count": 260,
   "metadata": {},
   "outputs": [
    {
     "name": "stdout",
     "output_type": "stream",
     "text": [
      "[('adequate', 0.9215265512466431), ('provider', 0.9175248146057129), ('inadequate', 0.9097712635993958), ('patients', 0.8990650773048401), ('appointments', 0.8905980587005615), ('patient', 0.8863116502761841), ('concerns', 0.8861064910888672), ('provided', 0.884499192237854), ('inflated', 0.8823788166046143), ('continual', 0.8786547780036926)]\n",
      "\n",
      "\n",
      "[('infect', 0.9722485542297363), ('puppet', 0.9678758382797241), ('lame', 0.9677397608757019), ('forlorn', 0.9664930105209351), ('sacrificed', 0.9639573097229004), ('nichiren', 0.963822066783905), ('betray', 0.9632946252822876), ('abortion', 0.9616525769233704), ('pessimistic', 0.961006760597229), ('inspiration', 0.9602154493331909)]\n"
     ]
    }
   ],
   "source": [
    "#title1 = \"Corruption at N.E.C.C.\"\n",
    "title1 = \"My name is Chanell Burnette\"\n",
    "title2 = \"Southern discomfort\"\n",
    "title3 = \"The United States of America\"\n",
    "title4 = \"Corruption at N.E.C.C.\"\n",
    "#title2 = \"A lot has been written\"\n",
    "#title2 = \"In every developed and even most semi-developed countries there exists a formal \"justice\" system\"\n",
    "\n",
    "print(d2v.most_similar( [ d2v.docvecs[title1] ], topn=10) )\n",
    "print(\"\\n\")\n",
    "print(d2v.most_similar( [ d2v.docvecs[title2] ], topn=10) )"
   ]
  },
  {
   "cell_type": "code",
   "execution_count": 261,
   "metadata": {},
   "outputs": [],
   "source": [
    "dict1 = {}\n",
    "dict1[title1] = [(x[0]) for x in d2v.most_similar( [ d2v.docvecs[title1] ], topn=10)]\n",
    "dict1[\"NEUTRAL: \"+title2] = [(x[0]) for x in d2v.most_similar( [ d2v.docvecs[title2] ], topn=10)]\n",
    "dict1[\"POSITIVE: \"+title3] = [(x[0]) for x in d2v.most_similar( [ d2v.docvecs[title3] ], topn=10)]\n",
    "dict1[\"NEGATIVE: \"+title4] = [(x[0]) for x in d2v.most_similar( [ d2v.docvecs[title4] ], topn=10)]\n",
    "\n",
    "dict_df = pd.DataFrame(dict([ (k,pd.Series(v)) for k,v in dict1.items() ]))"
   ]
  },
  {
   "cell_type": "code",
   "execution_count": 262,
   "metadata": {},
   "outputs": [
    {
     "data": {
      "text/html": [
       "<div>\n",
       "<style scoped>\n",
       "    .dataframe tbody tr th:only-of-type {\n",
       "        vertical-align: middle;\n",
       "    }\n",
       "\n",
       "    .dataframe tbody tr th {\n",
       "        vertical-align: top;\n",
       "    }\n",
       "\n",
       "    .dataframe thead th {\n",
       "        text-align: right;\n",
       "    }\n",
       "</style>\n",
       "<table border=\"1\" class=\"dataframe\">\n",
       "  <thead>\n",
       "    <tr style=\"text-align: right;\">\n",
       "      <th></th>\n",
       "      <th>My name is Chanell Burnette</th>\n",
       "      <th>NEUTRAL: Southern discomfort</th>\n",
       "      <th>POSITIVE: The United States of America</th>\n",
       "      <th>NEGATIVE: Corruption at N.E.C.C.</th>\n",
       "    </tr>\n",
       "  </thead>\n",
       "  <tbody>\n",
       "    <tr>\n",
       "      <th>0</th>\n",
       "      <td>adequate</td>\n",
       "      <td>infect</td>\n",
       "      <td>rethink</td>\n",
       "      <td>notices</td>\n",
       "    </tr>\n",
       "    <tr>\n",
       "      <th>1</th>\n",
       "      <td>provider</td>\n",
       "      <td>puppet</td>\n",
       "      <td>rein</td>\n",
       "      <td>seperated</td>\n",
       "    </tr>\n",
       "    <tr>\n",
       "      <th>2</th>\n",
       "      <td>inadequate</td>\n",
       "      <td>lame</td>\n",
       "      <td>vetting</td>\n",
       "      <td>accompanying</td>\n",
       "    </tr>\n",
       "    <tr>\n",
       "      <th>3</th>\n",
       "      <td>patients</td>\n",
       "      <td>forlorn</td>\n",
       "      <td>upd</td>\n",
       "      <td>bccx</td>\n",
       "    </tr>\n",
       "    <tr>\n",
       "      <th>4</th>\n",
       "      <td>appointments</td>\n",
       "      <td>sacrificed</td>\n",
       "      <td>ethnographic</td>\n",
       "      <td>seized</td>\n",
       "    </tr>\n",
       "    <tr>\n",
       "      <th>5</th>\n",
       "      <td>patient</td>\n",
       "      <td>nichiren</td>\n",
       "      <td>accorded</td>\n",
       "      <td>thier</td>\n",
       "    </tr>\n",
       "    <tr>\n",
       "      <th>6</th>\n",
       "      <td>concerns</td>\n",
       "      <td>betray</td>\n",
       "      <td>menaces</td>\n",
       "      <td>additionally</td>\n",
       "    </tr>\n",
       "    <tr>\n",
       "      <th>7</th>\n",
       "      <td>provided</td>\n",
       "      <td>abortion</td>\n",
       "      <td>illiteracy</td>\n",
       "      <td>surprisingly</td>\n",
       "    </tr>\n",
       "    <tr>\n",
       "      <th>8</th>\n",
       "      <td>inflated</td>\n",
       "      <td>pessimistic</td>\n",
       "      <td>allocating</td>\n",
       "      <td>venture</td>\n",
       "    </tr>\n",
       "    <tr>\n",
       "      <th>9</th>\n",
       "      <td>continual</td>\n",
       "      <td>inspiration</td>\n",
       "      <td>registries</td>\n",
       "      <td>hastily</td>\n",
       "    </tr>\n",
       "  </tbody>\n",
       "</table>\n",
       "</div>"
      ],
      "text/plain": [
       "  My name is Chanell Burnette NEUTRAL: Southern discomfort  \\\n",
       "0                    adequate                       infect   \n",
       "1                    provider                       puppet   \n",
       "2                  inadequate                         lame   \n",
       "3                    patients                      forlorn   \n",
       "4                appointments                   sacrificed   \n",
       "5                     patient                     nichiren   \n",
       "6                    concerns                       betray   \n",
       "7                    provided                     abortion   \n",
       "8                    inflated                  pessimistic   \n",
       "9                   continual                  inspiration   \n",
       "\n",
       "  POSITIVE: The United States of America NEGATIVE: Corruption at N.E.C.C.  \n",
       "0                                rethink                          notices  \n",
       "1                                   rein                        seperated  \n",
       "2                                vetting                     accompanying  \n",
       "3                                    upd                             bccx  \n",
       "4                           ethnographic                           seized  \n",
       "5                               accorded                            thier  \n",
       "6                                menaces                     additionally  \n",
       "7                             illiteracy                     surprisingly  \n",
       "8                             allocating                          venture  \n",
       "9                             registries                          hastily  "
      ]
     },
     "execution_count": 262,
     "metadata": {},
     "output_type": "execute_result"
    }
   ],
   "source": [
    "dict_df"
   ]
  },
  {
   "cell_type": "code",
   "execution_count": null,
   "metadata": {},
   "outputs": [],
   "source": []
  }
 ],
 "metadata": {
  "kernelspec": {
   "display_name": "Python 3",
   "language": "python",
   "name": "python3"
  },
  "language_info": {
   "codemirror_mode": {
    "name": "ipython",
    "version": 3
   },
   "file_extension": ".py",
   "mimetype": "text/x-python",
   "name": "python",
   "nbconvert_exporter": "python",
   "pygments_lexer": "ipython3",
   "version": "3.7.1"
  }
 },
 "nbformat": 4,
 "nbformat_minor": 4
}
